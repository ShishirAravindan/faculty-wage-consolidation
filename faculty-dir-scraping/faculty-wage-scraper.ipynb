{
 "cells": [
  {
   "cell_type": "markdown",
   "metadata": {},
   "source": [
    "# Faculty-Wage Scraper"
   ]
  },
  {
   "cell_type": "markdown",
   "metadata": {},
   "source": [
    "## Imports"
   ]
  },
  {
   "cell_type": "code",
   "execution_count": 55,
   "metadata": {},
   "outputs": [],
   "source": [
    "import csv\n",
    "import json\n",
    "import requests\n",
    "from bs4 import BeautifulSoup\n",
    "from typing import List, Dict, Optional\n",
    "import re"
   ]
  },
  {
   "cell_type": "markdown",
   "metadata": {},
   "source": [
    "## Scraping Logic"
   ]
  },
  {
   "cell_type": "code",
   "execution_count": 56,
   "metadata": {},
   "outputs": [],
   "source": [
    "def _split_name(full_name: str) -> tuple[str, str]:\n",
    "    \"\"\"\n",
    "    Split a full name into first name and last name.\n",
    "    \n",
    "    :param full_name: The full name string\n",
    "    :return: A tuple containing (first_name, last_name)\n",
    "    \"\"\"\n",
    "    \n",
    "    # Remove suffixes and additional info\n",
    "    clean_name = re.sub(r\",?\\s*(Ph\\.D\\.|M\\.D\\.|J\\.D\\.|MBA|DDS|MS|BA)\\.?$\", \"\", full_name.strip())\n",
    "    clean_name = re.sub(r\"\\s*\\(.*?\\)\\s*$\", \"\", clean_name)  # Remove any text in parentheses\n",
    "    \n",
    "    # Handle special cases where names might not have a last name\n",
    "    if '-' in clean_name:  # Handle names with\n",
    "        clean_name = clean_name.split('-')[0].strip()\n",
    "    if '—' in clean_name:  # Handle names with\n",
    "        clean_name = clean_name.split('—')[0].strip()\n",
    "    \n",
    "    parts = clean_name.split()\n",
    "    \n",
    "    if len(parts) == 0:\n",
    "        return \"\", \"\"\n",
    "    if len(parts) == 1:\n",
    "        return parts[0], \"\"\n",
    "    else:\n",
    "        return ' '.join(parts[:-1]).strip(), parts[-1].strip()\n"
   ]
  },
  {
   "cell_type": "code",
   "execution_count": 57,
   "metadata": {},
   "outputs": [],
   "source": [
    "def get_faculty_information_from_page(base_url: str, \n",
    "                                    faculty_selector: str, \n",
    "                                    name_selector: str, \n",
    "                                    rank_selector: str,\n",
    "                                    aggregate_field: str,\n",
    "                                    department: str,) -> List[Dict[str, str]]:\n",
    "    \"\"\"\n",
    "    Scrape faculty directory data from a given URL, handling pagination if needed.\n",
    "    \n",
    "    :param base_url: The base URL of the faculty directory page\n",
    "    :param faculty_selector: CSS selector for each faculty member's container\n",
    "    :param name_selector: CSS selector for the faculty member's name within their container\n",
    "    :param rank_selector: CSS selector for the faculty member's rank within their container\n",
    "    :param next_page_selector: CSS selector for the \"Next Page\" link (if paginated)\n",
    "    :param max_pages: Maximum number of pages to scrape (default: 1)\n",
    "    :return: List of dictionaries containing faculty information\n",
    "    \"\"\"\n",
    "    faculty_data = []\n",
    "\n",
    "    response = requests.get(base_url)\n",
    "    response.raise_for_status()\n",
    "    \n",
    "    soup = BeautifulSoup(response.text, 'html.parser')\n",
    "    faculty_members = soup.select(faculty_selector)\n",
    "    print(f\"Found {len(faculty_members)} members\")\n",
    "\n",
    "    for member in faculty_members:\n",
    "            name_element = member.select_one(name_selector)\n",
    "            full_name = name_element.text.strip() if name_element else ''\n",
    "            first_name, last_name = _split_name(full_name)\n",
    "            \n",
    "            rank_element = member.select_one(rank_selector)\n",
    "            rank = rank_element.text.strip() if rank_element else ''\n",
    "            \n",
    "            faculty_data.append({\n",
    "                'firstName': first_name,\n",
    "                'lastName': last_name,\n",
    "                'rank': rank,\n",
    "                'aggregateField': aggregate_field,\n",
    "                'departmentInfo': department\n",
    "            })\n",
    "\n",
    "    return faculty_data"
   ]
  },
  {
   "cell_type": "code",
   "execution_count": 58,
   "metadata": {},
   "outputs": [],
   "source": [
    "def write_to_csv(data: List[Dict[str, str]], filename: str):\n",
    "    \"\"\"\n",
    "    Write the faculty data to a CSV file.\n",
    "    \"\"\"\n",
    "    with open(f\"output/{filename}\", 'a', newline='', encoding='utf-8') as csvfile:\n",
    "        fieldnames = ['firstName', 'lastName', 'rank', 'aggregateField', 'departmentInfo']\n",
    "        writer = csv.DictWriter(csvfile, fieldnames=fieldnames)\n",
    "        \n",
    "        writer.writeheader()\n",
    "        for faculty in data:\n",
    "            writer.writerow(faculty)"
   ]
  },
  {
   "cell_type": "code",
   "execution_count": 62,
   "metadata": {},
   "outputs": [
    {
     "name": "stdout",
     "output_type": "stream",
     "text": [
      "{'base_url': 'https://www.public-health.uiowa.edu/cbh-faculty-list/', 'page_count': 1, 'aggregate_field': 'Life Sciences', 'department_info': 'Community and Behavioral Health', 'faculty_selector': 'table.directory tbody tr', 'name_selector': 'td:nth-child(1) a', 'rank_selector': 'td:nth-child(2)', 'outfileName': 'LISC_cbh.csv'}\n"
     ]
    }
   ],
   "source": [
    "FILE_NAME = \"LISC_cbh\"\n",
    "with open(f\"scraper-configs/{FILE_NAME}.json\", 'r') as f:\n",
    "    CONFIG = json.load(f)\n",
    "print(CONFIG)"
   ]
  },
  {
   "cell_type": "code",
   "execution_count": 63,
   "metadata": {},
   "outputs": [
    {
     "name": "stdout",
     "output_type": "stream",
     "text": [
      "Found 12 members\n",
      "[{'firstName': 'Oluwafemi', 'lastName': 'Adeagbo', 'rank': 'Assistant Professor', 'aggregateField': 'Life Sciences', 'departmentInfo': 'Community and Behavioral Health'}, {'firstName': 'Sato', 'lastName': 'Ashida', 'rank': 'Professor', 'aggregateField': 'Life Sciences', 'departmentInfo': 'Community and Behavioral Health'}, {'firstName': 'Natoshia', 'lastName': 'Askelson', 'rank': 'Associate Professor', 'aggregateField': 'Life Sciences', 'departmentInfo': 'Community and Behavioral Health'}, {'firstName': 'Paul', 'lastName': 'Gilbert', 'rank': 'Associate ProfessorDirector of Graduate Studies', 'aggregateField': 'Life Sciences', 'departmentInfo': 'Community and Behavioral Health'}, {'firstName': 'Ebonee', 'lastName': 'Johnson', 'rank': 'Assistant Professor', 'aggregateField': 'Life Sciences', 'departmentInfo': 'Community and Behavioral Health'}, {'firstName': 'Tricia', 'lastName': 'Kitzmann', 'rank': 'Assistant Professor of Instruction', 'aggregateField': 'Life Sciences', 'departmentInfo': 'Community and Behavioral Health'}, {'firstName': 'Nicole', 'lastName': 'Novak', 'rank': 'Research Assistant Professor', 'aggregateField': 'Life Sciences', 'departmentInfo': 'Community and Behavioral Health'}, {'firstName': 'Elizabeth E.', 'lastName': 'O’Neal', 'rank': 'Assistant Professor', 'aggregateField': 'Life Sciences', 'departmentInfo': 'Community and Behavioral Health'}, {'firstName': 'Edith A.', 'lastName': 'Parker', 'rank': 'DeanProfessor, Community and Behavioral Health', 'aggregateField': 'Life Sciences', 'departmentInfo': 'Community and Behavioral Health'}, {'firstName': 'William T.', 'lastName': 'Story', 'rank': 'Associate Professor', 'aggregateField': 'Life Sciences', 'departmentInfo': 'Community and Behavioral Health'}, {'firstName': 'Mark Vander', 'lastName': 'Weg', 'rank': 'Professor and Head', 'aggregateField': 'Life Sciences', 'departmentInfo': 'Community and Behavioral Health'}, {'firstName': 'Shannon Lea', 'lastName': 'Watkins', 'rank': 'Assistant Professor', 'aggregateField': 'Life Sciences', 'departmentInfo': 'Community and Behavioral Health'}]\n"
     ]
    }
   ],
   "source": [
    "for page in range(CONFIG[\"page_count\"]):\n",
    "    url = f\"{CONFIG['base_url']}/?page={page}\"\n",
    "    faculty_data = get_faculty_information_from_page(url, CONFIG[\"faculty_selector\"], \n",
    "                                                     CONFIG[\"name_selector\"], CONFIG[\"rank_selector\"],\n",
    "                                                     CONFIG[\"aggregate_field\"], CONFIG[\"department_info\"])\n",
    "    write_to_csv(faculty_data, CONFIG[\"outfileName\"])\n",
    "    print(f\"Scraping finished for page {page}\")"
   ]
  },
  {
   "cell_type": "markdown",
   "metadata": {},
   "source": [
    "## One-off patterns"
   ]
  },
  {
   "cell_type": "code",
   "execution_count": 34,
   "metadata": {},
   "outputs": [],
   "source": [
    "def get_biostats_faculty_info(url):\n",
    "    data = []\n",
    "    response = requests.get(url)\n",
    "    response.raise_for_status()\n",
    "    \n",
    "    soup = BeautifulSoup(response.text, 'html.parser')\n",
    "    rows = soup.find_all('tr')\n",
    "    for row in rows[1:]:\n",
    "        name = row.find('td').get_text(strip=True)\n",
    "        first_name, last_name = _split_name(name)\n",
    "        \n",
    "        title = row.find_all('td')[1].get_text(\" \", strip=True)\n",
    "        data.append({\n",
    "            'firstName': first_name, \n",
    "            'lastName': last_name, \n",
    "            'aggregateField': \"Life Sciences\",\n",
    "            'departmentInfo': \"Biostatistics\",\n",
    "            'rank': title})\n",
    "    return data\n",
    "\n",
    "URL = \"https://www.public-health.uiowa.edu/biostatistics-faculty-list/\"\n",
    "data = get_biostats_faculty_info(URL)\n",
    "write_to_csv(data, 'LISC_biostatistics.csv')"
   ]
  },
  {
   "cell_type": "code",
   "execution_count": 54,
   "metadata": {},
   "outputs": [],
   "source": [
    "def get_DGS_faculty_info(url):\n",
    "    data = []\n",
    "    response = requests.get(url)\n",
    "    response.raise_for_status()\n",
    "    \n",
    "    soup = BeautifulSoup(response.text, 'html.parser')\n",
    "    rows = soup.find_all('tr')\n",
    "    for row in rows[2:]:\n",
    "        department = row.find('td').get_text(strip=True)\n",
    "        \n",
    "        names = row.find_all('td')[1].find_all('li')\n",
    "        for name in names:\n",
    "            cleaned_name = name.get_text(\" \", strip=True)\n",
    "            first_name, last_name = _split_name(cleaned_name)\n",
    "\n",
    "            data.append({\n",
    "                'firstName': first_name, \n",
    "                'lastName': last_name,\n",
    "                'departmentInfo': department,\n",
    "                'rank': \"Director\",\n",
    "            })\n",
    "    return data\n",
    "\n",
    "URL = \"https://grad.uiowa.edu/faculty-staff/dgs-graduate-faculty/current-directors\"\n",
    "data = get_DGS_faculty_info(URL)\n",
    "write_to_csv(data, 'mixed_dgs.csv')"
   ]
  },
  {
   "cell_type": "code",
   "execution_count": null,
   "metadata": {},
   "outputs": [],
   "source": []
  }
 ],
 "metadata": {
  "kernelspec": {
   "display_name": ".finPayVenv",
   "language": "python",
   "name": "python3"
  },
  "language_info": {
   "codemirror_mode": {
    "name": "ipython",
    "version": 3
   },
   "file_extension": ".py",
   "mimetype": "text/x-python",
   "name": "python",
   "nbconvert_exporter": "python",
   "pygments_lexer": "ipython3",
   "version": "3.11.9"
  }
 },
 "nbformat": 4,
 "nbformat_minor": 2
}
